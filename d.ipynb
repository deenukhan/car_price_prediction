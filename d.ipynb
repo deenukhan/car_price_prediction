{
  "nbformat": 4,
  "nbformat_minor": 0,
  "metadata": {
    "colab": {
      "name": "Copy of car_price_prediction.ipynb",
      "provenance": [],
      "collapsed_sections": []
    },
    "kernelspec": {
      "name": "python3",
      "display_name": "Python 3"
    }
  },
  "cells": [
    {
      "cell_type": "markdown",
      "metadata": {
        "id": "9Z6HtTgFwY-L"
      },
      "source": [
        "<div class=\"markdown-converter__text--rendered\"><p>This dataset contains information about used cars listed on <a href=\"http://www.cardekho.com\" target=\"_blank\">www.cardekho.com</a> <br>\n",
        "This data can be used for a lot of purposes such as price prediction to exemplify the use of linear regression in Machine Learning.<br>\n",
        "<strong>The columns in the given dataset are as follows</strong>:</p>\n",
        "<ol>\n",
        "<li>name</li>\n",
        "<li>year</li>\n",
        "<li>selling_price</li>\n",
        "<li>km_driven</li>\n",
        "<li>fuel</li>\n",
        "<li>seller_type</li>\n",
        "<li>transmission</li>\n",
        "<li>Owner</li>\n",
        "</ol>\n"
      ]
    },
    {
      "cell_type": "markdown",
      "metadata": {
        "id": "EkYcYRdVwqDK"
      },
      "source": [
        "Objective of this runbook is Implement a fairly simple model, but with end to end implementation\n",
        "\n",
        "First we will Try very basic model and later on will gradually increase the complexity of model"
      ]
    },
    {
      "cell_type": "code",
      "metadata": {
        "id": "qAaaXLBmwaSH"
      },
      "source": [
        "import numpy as np\n",
        "import pandas as pd\n",
        "import matplotlib.pyplot as plt\n",
        "import seaborn as sns"
      ],
      "execution_count": null,
      "outputs": []
    },
    {
      "cell_type": "code",
      "metadata": {
        "id": "7GCso1lwADe4"
      },
      "source": [
        "car_data = pd.read_csv(\"/content/drive/My Drive/Study/Resume Content/CarDekhoEndtoEnd_Krish/car_data.csv\")"
      ],
      "execution_count": null,
      "outputs": []
    },
    {
      "cell_type": "code",
      "metadata": {
        "id": "UN3h88DOFHgb",
        "outputId": "4f75002c-af03-4807-e886-8486f665946e",
        "colab": {
          "base_uri": "https://localhost:8080/"
        }
      },
      "source": [
        "car_data.info()\n",
        "#Here we have total of 9 columns and \"Selling_Price\" is our Target Variable"
      ],
      "execution_count": null,
      "outputs": [
        {
          "output_type": "stream",
          "text": [
            "<class 'pandas.core.frame.DataFrame'>\n",
            "RangeIndex: 301 entries, 0 to 300\n",
            "Data columns (total 9 columns):\n",
            " #   Column         Non-Null Count  Dtype  \n",
            "---  ------         --------------  -----  \n",
            " 0   Car_Name       301 non-null    object \n",
            " 1   Year           301 non-null    int64  \n",
            " 2   Selling_Price  301 non-null    float64\n",
            " 3   Present_Price  301 non-null    float64\n",
            " 4   Kms_Driven     301 non-null    int64  \n",
            " 5   Fuel_Type      301 non-null    object \n",
            " 6   Seller_Type    301 non-null    object \n",
            " 7   Transmission   301 non-null    object \n",
            " 8   Owner          301 non-null    int64  \n",
            "dtypes: float64(2), int64(3), object(4)\n",
            "memory usage: 21.3+ KB\n"
          ],
          "name": "stdout"
        }
      ]
    },
    {
      "cell_type": "code",
      "metadata": {
        "id": "w-09zawyFJUd",
        "outputId": "32beb0b3-44b1-40d9-d56a-679fe3f240e6",
        "colab": {
          "base_uri": "https://localhost:8080/",
          "height": 204
        }
      },
      "source": [
        "car_data.head()\n",
        "#Now We can see we have, Categorical Variables in data named as, \"Year\", \"Fuel_Type\", \"Seller_Type\", \"Transmission\" "
      ],
      "execution_count": null,
      "outputs": [
        {
          "output_type": "execute_result",
          "data": {
            "text/html": [
              "<div>\n",
              "<style scoped>\n",
              "    .dataframe tbody tr th:only-of-type {\n",
              "        vertical-align: middle;\n",
              "    }\n",
              "\n",
              "    .dataframe tbody tr th {\n",
              "        vertical-align: top;\n",
              "    }\n",
              "\n",
              "    .dataframe thead th {\n",
              "        text-align: right;\n",
              "    }\n",
              "</style>\n",
              "<table border=\"1\" class=\"dataframe\">\n",
              "  <thead>\n",
              "    <tr style=\"text-align: right;\">\n",
              "      <th></th>\n",
              "      <th>Car_Name</th>\n",
              "      <th>Year</th>\n",
              "      <th>Selling_Price</th>\n",
              "      <th>Present_Price</th>\n",
              "      <th>Kms_Driven</th>\n",
              "      <th>Fuel_Type</th>\n",
              "      <th>Seller_Type</th>\n",
              "      <th>Transmission</th>\n",
              "      <th>Owner</th>\n",
              "    </tr>\n",
              "  </thead>\n",
              "  <tbody>\n",
              "    <tr>\n",
              "      <th>0</th>\n",
              "      <td>ritz</td>\n",
              "      <td>2014</td>\n",
              "      <td>3.35</td>\n",
              "      <td>5.59</td>\n",
              "      <td>27000</td>\n",
              "      <td>Petrol</td>\n",
              "      <td>Dealer</td>\n",
              "      <td>Manual</td>\n",
              "      <td>0</td>\n",
              "    </tr>\n",
              "    <tr>\n",
              "      <th>1</th>\n",
              "      <td>sx4</td>\n",
              "      <td>2013</td>\n",
              "      <td>4.75</td>\n",
              "      <td>9.54</td>\n",
              "      <td>43000</td>\n",
              "      <td>Diesel</td>\n",
              "      <td>Dealer</td>\n",
              "      <td>Manual</td>\n",
              "      <td>0</td>\n",
              "    </tr>\n",
              "    <tr>\n",
              "      <th>2</th>\n",
              "      <td>ciaz</td>\n",
              "      <td>2017</td>\n",
              "      <td>7.25</td>\n",
              "      <td>9.85</td>\n",
              "      <td>6900</td>\n",
              "      <td>Petrol</td>\n",
              "      <td>Dealer</td>\n",
              "      <td>Manual</td>\n",
              "      <td>0</td>\n",
              "    </tr>\n",
              "    <tr>\n",
              "      <th>3</th>\n",
              "      <td>wagon r</td>\n",
              "      <td>2011</td>\n",
              "      <td>2.85</td>\n",
              "      <td>4.15</td>\n",
              "      <td>5200</td>\n",
              "      <td>Petrol</td>\n",
              "      <td>Dealer</td>\n",
              "      <td>Manual</td>\n",
              "      <td>0</td>\n",
              "    </tr>\n",
              "    <tr>\n",
              "      <th>4</th>\n",
              "      <td>swift</td>\n",
              "      <td>2014</td>\n",
              "      <td>4.60</td>\n",
              "      <td>6.87</td>\n",
              "      <td>42450</td>\n",
              "      <td>Diesel</td>\n",
              "      <td>Dealer</td>\n",
              "      <td>Manual</td>\n",
              "      <td>0</td>\n",
              "    </tr>\n",
              "  </tbody>\n",
              "</table>\n",
              "</div>"
            ],
            "text/plain": [
              "  Car_Name  Year  Selling_Price  ...  Seller_Type  Transmission Owner\n",
              "0     ritz  2014           3.35  ...       Dealer        Manual     0\n",
              "1      sx4  2013           4.75  ...       Dealer        Manual     0\n",
              "2     ciaz  2017           7.25  ...       Dealer        Manual     0\n",
              "3  wagon r  2011           2.85  ...       Dealer        Manual     0\n",
              "4    swift  2014           4.60  ...       Dealer        Manual     0\n",
              "\n",
              "[5 rows x 9 columns]"
            ]
          },
          "metadata": {
            "tags": []
          },
          "execution_count": 154
        }
      ]
    },
    {
      "cell_type": "code",
      "metadata": {
        "id": "YgN4ceHzF0NW",
        "outputId": "6f74aa81-cdea-466b-b95a-b9f62310189d",
        "colab": {
          "base_uri": "https://localhost:8080/"
        }
      },
      "source": [
        "#Let's Print out the Categories for our Categorical Values\n",
        "print(\"Unique values of 'Fuel Type' Feature      : \", car_data['Fuel_Type'].unique())\n",
        "print(\"Unique values of 'Seller_Type' Feature   : \", car_data['Seller_Type'].unique())\n",
        "print(\"Unique values of 'Transmission' Feature  : \", car_data['Transmission'].unique())"
      ],
      "execution_count": null,
      "outputs": [
        {
          "output_type": "stream",
          "text": [
            "Unique values of 'Fuel Type' Feature      :  ['Petrol' 'Diesel' 'CNG']\n",
            "Unique values of 'Seller_Type' Feature   :  ['Dealer' 'Individual']\n",
            "Unique values of 'Transmission' Feature  :  ['Manual' 'Automatic']\n"
          ],
          "name": "stdout"
        }
      ]
    },
    {
      "cell_type": "code",
      "metadata": {
        "id": "jvV1LyEHLcU_",
        "outputId": "bc80c5c5-aa8d-462f-8a69-e3376c204784",
        "colab": {
          "base_uri": "https://localhost:8080/"
        }
      },
      "source": [
        "car_data.isnull().sum()\n",
        "#We don't have NaN values in our data, well that's good thing because we don't need think about techniques to fill null values or \n",
        "#dropping them"
      ],
      "execution_count": null,
      "outputs": [
        {
          "output_type": "execute_result",
          "data": {
            "text/plain": [
              "Car_Name         0\n",
              "Year             0\n",
              "Selling_Price    0\n",
              "Present_Price    0\n",
              "Kms_Driven       0\n",
              "Fuel_Type        0\n",
              "Seller_Type      0\n",
              "Transmission     0\n",
              "Owner            0\n",
              "dtype: int64"
            ]
          },
          "metadata": {
            "tags": []
          },
          "execution_count": 8
        }
      ]
    },
    {
      "cell_type": "code",
      "metadata": {
        "id": "uU7VRc6zIGUa",
        "outputId": "82c7e377-4878-480b-90d6-0b7836437ce8",
        "colab": {
          "base_uri": "https://localhost:8080/",
          "height": 204
        }
      },
      "source": [
        "car_data.corr()\n",
        "#Here we can see that Present Price is positively correlated to Selling Price, means Present_Price is good predictor of Selling_Price\n",
        "#After That Year is also contributing to predict Selling_Price"
      ],
      "execution_count": null,
      "outputs": [
        {
          "output_type": "execute_result",
          "data": {
            "text/html": [
              "<div>\n",
              "<style scoped>\n",
              "    .dataframe tbody tr th:only-of-type {\n",
              "        vertical-align: middle;\n",
              "    }\n",
              "\n",
              "    .dataframe tbody tr th {\n",
              "        vertical-align: top;\n",
              "    }\n",
              "\n",
              "    .dataframe thead th {\n",
              "        text-align: right;\n",
              "    }\n",
              "</style>\n",
              "<table border=\"1\" class=\"dataframe\">\n",
              "  <thead>\n",
              "    <tr style=\"text-align: right;\">\n",
              "      <th></th>\n",
              "      <th>Year</th>\n",
              "      <th>Selling_Price</th>\n",
              "      <th>Present_Price</th>\n",
              "      <th>Kms_Driven</th>\n",
              "      <th>Owner</th>\n",
              "    </tr>\n",
              "  </thead>\n",
              "  <tbody>\n",
              "    <tr>\n",
              "      <th>Year</th>\n",
              "      <td>1.000000</td>\n",
              "      <td>0.236141</td>\n",
              "      <td>-0.047584</td>\n",
              "      <td>-0.524342</td>\n",
              "      <td>-0.182104</td>\n",
              "    </tr>\n",
              "    <tr>\n",
              "      <th>Selling_Price</th>\n",
              "      <td>0.236141</td>\n",
              "      <td>1.000000</td>\n",
              "      <td>0.878983</td>\n",
              "      <td>0.029187</td>\n",
              "      <td>-0.088344</td>\n",
              "    </tr>\n",
              "    <tr>\n",
              "      <th>Present_Price</th>\n",
              "      <td>-0.047584</td>\n",
              "      <td>0.878983</td>\n",
              "      <td>1.000000</td>\n",
              "      <td>0.203647</td>\n",
              "      <td>0.008057</td>\n",
              "    </tr>\n",
              "    <tr>\n",
              "      <th>Kms_Driven</th>\n",
              "      <td>-0.524342</td>\n",
              "      <td>0.029187</td>\n",
              "      <td>0.203647</td>\n",
              "      <td>1.000000</td>\n",
              "      <td>0.089216</td>\n",
              "    </tr>\n",
              "    <tr>\n",
              "      <th>Owner</th>\n",
              "      <td>-0.182104</td>\n",
              "      <td>-0.088344</td>\n",
              "      <td>0.008057</td>\n",
              "      <td>0.089216</td>\n",
              "      <td>1.000000</td>\n",
              "    </tr>\n",
              "  </tbody>\n",
              "</table>\n",
              "</div>"
            ],
            "text/plain": [
              "                   Year  Selling_Price  Present_Price  Kms_Driven     Owner\n",
              "Year           1.000000       0.236141      -0.047584   -0.524342 -0.182104\n",
              "Selling_Price  0.236141       1.000000       0.878983    0.029187 -0.088344\n",
              "Present_Price -0.047584       0.878983       1.000000    0.203647  0.008057\n",
              "Kms_Driven    -0.524342       0.029187       0.203647    1.000000  0.089216\n",
              "Owner         -0.182104      -0.088344       0.008057    0.089216  1.000000"
            ]
          },
          "metadata": {
            "tags": []
          },
          "execution_count": 156
        }
      ]
    },
    {
      "cell_type": "code",
      "metadata": {
        "id": "C4hk04TnIgLM"
      },
      "source": [
        "#Let's drop car_name because we don't need it\n",
        "car_data.drop(['Car_Name'], axis = 1, inplace = True)"
      ],
      "execution_count": null,
      "outputs": []
    },
    {
      "cell_type": "code",
      "metadata": {
        "id": "Hs5AoToNKQQe"
      },
      "source": [
        "#let do some feature engineering, as we're doing this project in 2020, so we can generate a new feature \n",
        "#how many years old a car is with the help of Year feature\n",
        "from datetime import datetime\n",
        "car_data['Years_old'] = datetime.now().year - car_data['Year']"
      ],
      "execution_count": null,
      "outputs": []
    },
    {
      "cell_type": "code",
      "metadata": {
        "id": "DEU9wIFVJQYU",
        "outputId": "590b6911-b0ad-4c5f-a45f-2ed01f284d9f",
        "colab": {
          "base_uri": "https://localhost:8080/"
        }
      },
      "source": [
        "#now let's deal with categorical variable use one hot encoding to convert them\n",
        "#and about the numerical feature, we would be using tree based model, which doesn't affect by scale of numerical features that much\n",
        "#later we will do scaling of numerical features and will see the difference\n",
        "\n",
        "from sklearn.preprocessing import OneHotEncoder\n",
        "enc = OneHotEncoder(drop = 'first')\n",
        "\n",
        "Fuel_Type_ohe = enc.fit_transform(car_data['Fuel_Type'].values.reshape(-1, 1)).toarray()\n",
        "Seller_Type_ohe = enc.fit_transform(car_data['Seller_Type'].values.reshape(-1, 1)).toarray()\n",
        "Transmission_ohe = enc.fit_transform(car_data['Transmission'].values.reshape(-1, 1)).toarray()\n",
        "\n",
        "print(\"Fuel_Type Shape = \", Fuel_Type_ohe.shape)\n",
        "print(\"Seller_Type_ohe Shape = \", Seller_Type_ohe.shape)\n",
        "print(\"Transmission_ohe Shape = \", Transmission_ohe.shape)"
      ],
      "execution_count": null,
      "outputs": [
        {
          "output_type": "stream",
          "text": [
            "Fuel_Type Shape =  (301, 2)\n",
            "Seller_Type_ohe Shape =  (301, 1)\n",
            "Transmission_ohe Shape =  (301, 1)\n"
          ],
          "name": "stdout"
        }
      ]
    },
    {
      "cell_type": "code",
      "metadata": {
        "id": "0qUapBkp1QQX",
        "outputId": "1baf78a6-be70-4966-bd47-e0af879cbed5",
        "colab": {
          "base_uri": "https://localhost:8080/"
        }
      },
      "source": [
        "#Lets concatenate our onehot encoded features and split our data into dependent and independent variables\n",
        "X = np.concatenate((Fuel_Type_ohe, Seller_Type_ohe, Transmission_ohe, car_data['Present_Price'].values.reshape(-1, 1), \n",
        "                    car_data['Kms_Driven'].values.reshape(-1, 1), car_data['Owner'].values.reshape(-1, 1), \n",
        "                    car_data['Years_old'].values.reshape(-1, 1)), axis = 1)\n",
        "y = car_data['Selling_Price'].values\n",
        "\n",
        "print(\"Shape of X : \", X.shape)\n",
        "print(\"Shape of y : \", y.shape)"
      ],
      "execution_count": null,
      "outputs": [
        {
          "output_type": "stream",
          "text": [
            "Shape of X :  (301, 8)\n",
            "Shape of y :  (301,)\n"
          ],
          "name": "stdout"
        }
      ]
    },
    {
      "cell_type": "code",
      "metadata": {
        "id": "TgJV8ownuG5_",
        "outputId": "59d611bc-a06a-4805-d809-acccb680eda5",
        "colab": {
          "base_uri": "https://localhost:8080/"
        }
      },
      "source": [
        "#Splitting the data into Test and Train part\n",
        "from sklearn.model_selection import train_test_split\n",
        "\n",
        "X_train, X_test, y_train, y_test = train_test_split(X, y)\n",
        "\n",
        "print(\"Shape of X_train : \", X_train.shape)\n",
        "print(\"Shape of y_train : \", y_train.shape)\n",
        "print(\"Shape of X_test : \", X_test.shape)\n",
        "print(\"Shape of y_test : \", y_test.shape)\n"
      ],
      "execution_count": null,
      "outputs": [
        {
          "output_type": "stream",
          "text": [
            "Shape of X_train :  (225, 8)\n",
            "Shape of y_train :  (225,)\n",
            "Shape of X_test :  (76, 8)\n",
            "Shape of y_test :  (76,)\n"
          ],
          "name": "stdout"
        }
      ]
    },
    {
      "cell_type": "code",
      "metadata": {
        "id": "nmMUStHxuHAV",
        "outputId": "61da4552-d7cd-4dfb-e28a-c30ac7dc0aa0",
        "colab": {
          "base_uri": "https://localhost:8080/"
        }
      },
      "source": [
        "#Finding the best Parameter for our model, here we are using RandomForest Regressor model and will be tuning only\n",
        "#Two Parameters, max_depth and n_estimators but your are free to try other parameters as well\n",
        "from sklearn.model_selection import RandomizedSearchCV\n",
        "from sklearn.ensemble import RandomForestRegressor\n",
        "\n",
        "n_estimators = [int(x) for x in np.linspace(40, 140, 6)] \n",
        "max_depth = [1, 3, 5, 7, 9, 11]\n",
        "param = {'n_estimators' : n_estimators, 'max_depth' : max_depth}\n",
        "\n",
        "model = RandomForestRegressor()\n",
        "model_rcv = RandomizedSearchCV(model, param, verbose = 1, n_jobs = -1)\n",
        "\n",
        "model_rcv.fit(X_train, y_train)"
      ],
      "execution_count": null,
      "outputs": [
        {
          "output_type": "stream",
          "text": [
            "Fitting 5 folds for each of 10 candidates, totalling 50 fits\n"
          ],
          "name": "stdout"
        },
        {
          "output_type": "stream",
          "text": [
            "[Parallel(n_jobs=-1)]: Using backend LokyBackend with 2 concurrent workers.\n",
            "[Parallel(n_jobs=-1)]: Done  46 tasks      | elapsed:    5.9s\n",
            "[Parallel(n_jobs=-1)]: Done  50 out of  50 | elapsed:    6.3s finished\n"
          ],
          "name": "stderr"
        },
        {
          "output_type": "execute_result",
          "data": {
            "text/plain": [
              "RandomizedSearchCV(cv=None, error_score=nan,\n",
              "                   estimator=RandomForestRegressor(bootstrap=True,\n",
              "                                                   ccp_alpha=0.0,\n",
              "                                                   criterion='mse',\n",
              "                                                   max_depth=None,\n",
              "                                                   max_features='auto',\n",
              "                                                   max_leaf_nodes=None,\n",
              "                                                   max_samples=None,\n",
              "                                                   min_impurity_decrease=0.0,\n",
              "                                                   min_impurity_split=None,\n",
              "                                                   min_samples_leaf=1,\n",
              "                                                   min_samples_split=2,\n",
              "                                                   min_weight_fraction_leaf=0.0,\n",
              "                                                   n_estimators=100,\n",
              "                                                   n_jobs=None, oob_score=False,\n",
              "                                                   random_state=None, verbose=0,\n",
              "                                                   warm_start=False),\n",
              "                   iid='deprecated', n_iter=10, n_jobs=-1,\n",
              "                   param_distributions={'max_depth': [1, 3, 5, 7, 9, 11],\n",
              "                                        'n_estimators': [40, 60, 80, 100, 120,\n",
              "                                                         140]},\n",
              "                   pre_dispatch='2*n_jobs', random_state=None, refit=True,\n",
              "                   return_train_score=False, scoring=None, verbose=1)"
            ]
          },
          "metadata": {
            "tags": []
          },
          "execution_count": 12
        }
      ]
    },
    {
      "cell_type": "code",
      "metadata": {
        "id": "9hxShCauboMC",
        "outputId": "792cfaa2-7482-4b40-d178-cf5643b4ae89",
        "colab": {
          "base_uri": "https://localhost:8080/"
        }
      },
      "source": [
        "#Saving our Best parameters\n",
        "max_depth = model_rcv.best_params_['max_depth']\n",
        "n_estimators = model_rcv.best_params_['n_estimators']\n",
        "print(max_depth, n_estimators)\n",
        "model_rcv.best_params_"
      ],
      "execution_count": null,
      "outputs": [
        {
          "output_type": "stream",
          "text": [
            "9 100\n"
          ],
          "name": "stdout"
        },
        {
          "output_type": "execute_result",
          "data": {
            "text/plain": [
              "{'max_depth': 9, 'n_estimators': 100}"
            ]
          },
          "metadata": {
            "tags": []
          },
          "execution_count": 15
        }
      ]
    },
    {
      "cell_type": "code",
      "metadata": {
        "id": "gDi_fTvDuHQu",
        "outputId": "591f7b99-2dac-4ff5-9fe8-3e3bd9dc9284",
        "colab": {
          "base_uri": "https://localhost:8080/"
        }
      },
      "source": [
        "#now when we have our best parameters, let's train our model again\n",
        "max_depth = model_rcv.best_params_['max_depth']\n",
        "n_estimators = model_rcv.best_params_['n_estimators']\n",
        "\n",
        "model = RandomForestRegressor(n_estimators=n_estimators, max_depth=max_depth)\n",
        "model.fit(X_train, y_train)"
      ],
      "execution_count": null,
      "outputs": [
        {
          "output_type": "execute_result",
          "data": {
            "text/plain": [
              "RandomForestRegressor(bootstrap=True, ccp_alpha=0.0, criterion='mse',\n",
              "                      max_depth=9, max_features='auto', max_leaf_nodes=None,\n",
              "                      max_samples=None, min_impurity_decrease=0.0,\n",
              "                      min_impurity_split=None, min_samples_leaf=1,\n",
              "                      min_samples_split=2, min_weight_fraction_leaf=0.0,\n",
              "                      n_estimators=11, n_jobs=None, oob_score=False,\n",
              "                      random_state=None, verbose=0, warm_start=False)"
            ]
          },
          "metadata": {
            "tags": []
          },
          "execution_count": 22
        }
      ]
    },
    {
      "cell_type": "code",
      "metadata": {
        "id": "LQUcPAYSuHcp"
      },
      "source": [
        "#Predicting the Values\n",
        "predictions = model.predict(X_test)"
      ],
      "execution_count": null,
      "outputs": []
    },
    {
      "cell_type": "code",
      "metadata": {
        "id": "RjCndNdPypr3",
        "outputId": "a0a3fc60-0f77-4f86-9691-4c96bb975340",
        "colab": {
          "base_uri": "https://localhost:8080/",
          "height": 336
        }
      },
      "source": [
        "#From below graph we can see that our model is pretty much working fine, because difference is normally distributed\n",
        "sns.distplot(y_test - predictions)"
      ],
      "execution_count": null,
      "outputs": [
        {
          "output_type": "stream",
          "text": [
            "/usr/local/lib/python3.6/dist-packages/seaborn/distributions.py:2551: FutureWarning: `distplot` is a deprecated function and will be removed in a future version. Please adapt your code to use either `displot` (a figure-level function with similar flexibility) or `histplot` (an axes-level function for histograms).\n",
            "  warnings.warn(msg, FutureWarning)\n"
          ],
          "name": "stderr"
        },
        {
          "output_type": "execute_result",
          "data": {
            "text/plain": [
              "<matplotlib.axes._subplots.AxesSubplot at 0x7f89184e9208>"
            ]
          },
          "metadata": {
            "tags": []
          },
          "execution_count": 25
        },
        {
          "output_type": "display_data",
          "data": {
            "image/png": "[encoded data removed]",
            "text/plain": [
              "<Figure size 432x288 with 1 Axes>"
            ]
          },
          "metadata": {
            "tags": [],
            "needs_background": "light"
          }
        }
      ]
    },
    {
      "cell_type": "code",
      "metadata": {
        "id": "0BnZqhhxyzo4",
        "outputId": "e75b6aad-3db0-4c96-c0f7-4ed190ab4aad",
        "colab": {
          "base_uri": "https://localhost:8080/"
        }
      },
      "source": [
        "#Now Checking Errors\n",
        "from sklearn.metrics import  mean_absolute_error, mean_squared_error\n",
        "print(\"Mean Absolute Error          : \", mean_absolute_error(y_test, predictions))\n",
        "print(\"Mean Squared Error           : \", mean_squared_error(y_test, predictions))\n",
        "print(\"Root Mean Squared Error      : \", np.sqrt(mean_squared_error(y_test, predictions)))"
      ],
      "execution_count": null,
      "outputs": [
        {
          "output_type": "stream",
          "text": [
            "Mean Absolute Error          :  0.6788050744411209\n",
            "Mean Squared Error           :  3.5094064562757237\n",
            "Root Mean Squared Error      :  1.8733409877210618\n"
          ],
          "name": "stdout"
        }
      ]
    },
    {
      "cell_type": "code",
      "metadata": {
        "id": "4fGtft2WuHNy"
      },
      "source": [
        "#Now dumping our model into Pickle File, and later on we will be using this model for the prediction\n",
        "import pickle\n",
        "file = open('model_rf_regressor.pkl', 'wb')\n",
        "pickle.dump(model, file)    "
      ],
      "execution_count": null,
      "outputs": []
    },
    {
      "cell_type": "markdown",
      "metadata": {
        "id": "n3dH6ZYnZ93c"
      },
      "source": [
        "Conclusion: This model was very simple, and the sole purpose of this exercise was to understand and grasp the whole lifecycle of Machine Learning Projects, see app.py file for next steps."
      ]
    }
  ]
}
