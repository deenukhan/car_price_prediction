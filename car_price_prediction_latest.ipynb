{
 "cells": [
  {
   "cell_type": "markdown",
   "metadata": {
    "id": "9Z6HtTgFwY-L"
   },
   "source": [
    "<div class=\"markdown-converter__text--rendered\"><p>This dataset contains information about used cars listed on <a href=\"http://www.cardekho.com\" target=\"_blank\">www.cardekho.com</a> <br>\n",
    "This data can be used for a lot of purposes such as price prediction to exemplify the use of linear regression in Machine Learning.<br>\n",
    "<strong>The columns in the given dataset are as follows</strong>:</p>\n",
    "<ol>\n",
    "<li>name</li>\n",
    "<li>year</li>\n",
    "<li>selling_price</li>\n",
    "<li>km_driven</li>\n",
    "<li>fuel</li>\n",
    "<li>seller_type</li>\n",
    "<li>transmission</li>\n",
    "<li>Owner</li>\n",
    "</ol>\n"
   ]
  },
  {
   "cell_type": "markdown",
   "metadata": {
    "id": "EkYcYRdVwqDK"
   },
   "source": [
    "Objective of this runbook is Implement a fairly simple model, but with end to end implementation\n",
    "\n",
    "First we will Try very basic model and later on will gradually increase the complexity of model"
   ]
  },
  {
   "cell_type": "code",
   "execution_count": 1,
   "metadata": {
    "executionInfo": {
     "elapsed": 3438,
     "status": "ok",
     "timestamp": 1605066200316,
     "user": {
      "displayName": "DEENU KHAN",
      "photoUrl": "https://lh3.googleusercontent.com/a-/AOh14Ghpfvygacg2FT229l3smVm_jkBYuB82Acgo6pI4=s64",
      "userId": "07803613442984213053"
     },
     "user_tz": -330
    },
    "id": "qAaaXLBmwaSH"
   },
   "outputs": [],
   "source": [
    "import numpy as np\n",
    "import pandas as pd\n",
    "import matplotlib.pyplot as plt\n",
    "import seaborn as sns"
   ]
  },
  {
   "cell_type": "code",
   "execution_count": 2,
   "metadata": {
    "executionInfo": {
     "elapsed": 4011,
     "status": "ok",
     "timestamp": 1605066219265,
     "user": {
      "displayName": "DEENU KHAN",
      "photoUrl": "https://lh3.googleusercontent.com/a-/AOh14Ghpfvygacg2FT229l3smVm_jkBYuB82Acgo6pI4=s64",
      "userId": "07803613442984213053"
     },
     "user_tz": -330
    },
    "id": "7GCso1lwADe4"
   },
   "outputs": [],
   "source": [
    "car_data = pd.read_csv(\"/content/drive/My Drive/Study/Resume Content/CarDekhoEndtoEnd_Krish/car_data.csv\")"
   ]
  },
  {
   "cell_type": "code",
   "execution_count": 153,
   "metadata": {
    "colab": {
     "base_uri": "https://localhost:8080/"
    },
    "executionInfo": {
     "elapsed": 1143,
     "status": "ok",
     "timestamp": 1604922132379,
     "user": {
      "displayName": "DEENU KHAN",
      "photoUrl": "https://lh3.googleusercontent.com/a-/AOh14Ghpfvygacg2FT229l3smVm_jkBYuB82Acgo6pI4=s64",
      "userId": "07803613442984213053"
     },
     "user_tz": -330
    },
    "id": "UN3h88DOFHgb",
    "outputId": "4f75002c-af03-4807-e886-8486f665946e"
   },
   "outputs": [
    {
     "name": "stdout",
     "output_type": "stream",
     "text": [
      "<class 'pandas.core.frame.DataFrame'>\n",
      "RangeIndex: 301 entries, 0 to 300\n",
      "Data columns (total 9 columns):\n",
      " #   Column         Non-Null Count  Dtype  \n",
      "---  ------         --------------  -----  \n",
      " 0   Car_Name       301 non-null    object \n",
      " 1   Year           301 non-null    int64  \n",
      " 2   Selling_Price  301 non-null    float64\n",
      " 3   Present_Price  301 non-null    float64\n",
      " 4   Kms_Driven     301 non-null    int64  \n",
      " 5   Fuel_Type      301 non-null    object \n",
      " 6   Seller_Type    301 non-null    object \n",
      " 7   Transmission   301 non-null    object \n",
      " 8   Owner          301 non-null    int64  \n",
      "dtypes: float64(2), int64(3), object(4)\n",
      "memory usage: 21.3+ KB\n"
     ]
    }
   ],
   "source": [
    "car_data.info()\n",
    "#Here we have total of 9 columns and \"Selling_Price\" is our Target Variable"
   ]
  },
  {
   "cell_type": "code",
   "execution_count": 154,
   "metadata": {
    "colab": {
     "base_uri": "https://localhost:8080/",
     "height": 204
    },
    "executionInfo": {
     "elapsed": 1916,
     "status": "ok",
     "timestamp": 1604922134596,
     "user": {
      "displayName": "DEENU KHAN",
      "photoUrl": "https://lh3.googleusercontent.com/a-/AOh14Ghpfvygacg2FT229l3smVm_jkBYuB82Acgo6pI4=s64",
      "userId": "07803613442984213053"
     },
     "user_tz": -330
    },
    "id": "w-09zawyFJUd",
    "outputId": "32beb0b3-44b1-40d9-d56a-679fe3f240e6"
   },
   "outputs": [
    {
     "data": {
      "text/html": [
       "<div>\n",
       "<style scoped>\n",
       "    .dataframe tbody tr th:only-of-type {\n",
       "        vertical-align: middle;\n",
       "    }\n",
       "\n",
       "    .dataframe tbody tr th {\n",
       "        vertical-align: top;\n",
       "    }\n",
       "\n",
       "    .dataframe thead th {\n",
       "        text-align: right;\n",
       "    }\n",
       "</style>\n",
       "<table border=\"1\" class=\"dataframe\">\n",
       "  <thead>\n",
       "    <tr style=\"text-align: right;\">\n",
       "      <th></th>\n",
       "      <th>Car_Name</th>\n",
       "      <th>Year</th>\n",
       "      <th>Selling_Price</th>\n",
       "      <th>Present_Price</th>\n",
       "      <th>Kms_Driven</th>\n",
       "      <th>Fuel_Type</th>\n",
       "      <th>Seller_Type</th>\n",
       "      <th>Transmission</th>\n",
       "      <th>Owner</th>\n",
       "    </tr>\n",
       "  </thead>\n",
       "  <tbody>\n",
       "    <tr>\n",
       "      <th>0</th>\n",
       "      <td>ritz</td>\n",
       "      <td>2014</td>\n",
       "      <td>3.35</td>\n",
       "      <td>5.59</td>\n",
       "      <td>27000</td>\n",
       "      <td>Petrol</td>\n",
       "      <td>Dealer</td>\n",
       "      <td>Manual</td>\n",
       "      <td>0</td>\n",
       "    </tr>\n",
       "    <tr>\n",
       "      <th>1</th>\n",
       "      <td>sx4</td>\n",
       "      <td>2013</td>\n",
       "      <td>4.75</td>\n",
       "      <td>9.54</td>\n",
       "      <td>43000</td>\n",
       "      <td>Diesel</td>\n",
       "      <td>Dealer</td>\n",
       "      <td>Manual</td>\n",
       "      <td>0</td>\n",
       "    </tr>\n",
       "    <tr>\n",
       "      <th>2</th>\n",
       "      <td>ciaz</td>\n",
       "      <td>2017</td>\n",
       "      <td>7.25</td>\n",
       "      <td>9.85</td>\n",
       "      <td>6900</td>\n",
       "      <td>Petrol</td>\n",
       "      <td>Dealer</td>\n",
       "      <td>Manual</td>\n",
       "      <td>0</td>\n",
       "    </tr>\n",
       "    <tr>\n",
       "      <th>3</th>\n",
       "      <td>wagon r</td>\n",
       "      <td>2011</td>\n",
       "      <td>2.85</td>\n",
       "      <td>4.15</td>\n",
       "      <td>5200</td>\n",
       "      <td>Petrol</td>\n",
       "      <td>Dealer</td>\n",
       "      <td>Manual</td>\n",
       "      <td>0</td>\n",
       "    </tr>\n",
       "    <tr>\n",
       "      <th>4</th>\n",
       "      <td>swift</td>\n",
       "      <td>2014</td>\n",
       "      <td>4.60</td>\n",
       "      <td>6.87</td>\n",
       "      <td>42450</td>\n",
       "      <td>Diesel</td>\n",
       "      <td>Dealer</td>\n",
       "      <td>Manual</td>\n",
       "      <td>0</td>\n",
       "    </tr>\n",
       "  </tbody>\n",
       "</table>\n",
       "</div>"
      ],
      "text/plain": [
       "  Car_Name  Year  Selling_Price  ...  Seller_Type  Transmission Owner\n",
       "0     ritz  2014           3.35  ...       Dealer        Manual     0\n",
       "1      sx4  2013           4.75  ...       Dealer        Manual     0\n",
       "2     ciaz  2017           7.25  ...       Dealer        Manual     0\n",
       "3  wagon r  2011           2.85  ...       Dealer        Manual     0\n",
       "4    swift  2014           4.60  ...       Dealer        Manual     0\n",
       "\n",
       "[5 rows x 9 columns]"
      ]
     },
     "execution_count": 154,
     "metadata": {
      "tags": []
     },
     "output_type": "execute_result"
    }
   ],
   "source": [
    "car_data.head()\n",
    "#Now We can see we have, Categorical Variables in data named as, \"Year\", \"Fuel_Type\", \"Seller_Type\", \"Transmission\" "
   ]
  },
  {
   "cell_type": "code",
   "execution_count": 155,
   "metadata": {
    "colab": {
     "base_uri": "https://localhost:8080/"
    },
    "executionInfo": {
     "elapsed": 1289,
     "status": "ok",
     "timestamp": 1604922135082,
     "user": {
      "displayName": "DEENU KHAN",
      "photoUrl": "https://lh3.googleusercontent.com/a-/AOh14Ghpfvygacg2FT229l3smVm_jkBYuB82Acgo6pI4=s64",
      "userId": "07803613442984213053"
     },
     "user_tz": -330
    },
    "id": "YgN4ceHzF0NW",
    "outputId": "6f74aa81-cdea-466b-b95a-b9f62310189d"
   },
   "outputs": [
    {
     "name": "stdout",
     "output_type": "stream",
     "text": [
      "Unique values of 'Fuel Type' Feature      :  ['Petrol' 'Diesel' 'CNG']\n",
      "Unique values of 'Seller_Type' Feature   :  ['Dealer' 'Individual']\n",
      "Unique values of 'Transmission' Feature  :  ['Manual' 'Automatic']\n"
     ]
    }
   ],
   "source": [
    "#Let's Print out the Categories for our Categorical Values\n",
    "print(\"Unique values of 'Fuel Type' Feature      : \", car_data['Fuel_Type'].unique())\n",
    "print(\"Unique values of 'Seller_Type' Feature   : \", car_data['Seller_Type'].unique())\n",
    "print(\"Unique values of 'Transmission' Feature  : \", car_data['Transmission'].unique())"
   ]
  },
  {
   "cell_type": "code",
   "execution_count": 8,
   "metadata": {
    "colab": {
     "base_uri": "https://localhost:8080/"
    },
    "executionInfo": {
     "elapsed": 1224,
     "status": "ok",
     "timestamp": 1604893863875,
     "user": {
      "displayName": "DEENU KHAN",
      "photoUrl": "https://lh3.googleusercontent.com/a-/AOh14Ghpfvygacg2FT229l3smVm_jkBYuB82Acgo6pI4=s64",
      "userId": "07803613442984213053"
     },
     "user_tz": -330
    },
    "id": "jvV1LyEHLcU_",
    "outputId": "bc80c5c5-aa8d-462f-8a69-e3376c204784"
   },
   "outputs": [
    {
     "data": {
      "text/plain": [
       "Car_Name         0\n",
       "Year             0\n",
       "Selling_Price    0\n",
       "Present_Price    0\n",
       "Kms_Driven       0\n",
       "Fuel_Type        0\n",
       "Seller_Type      0\n",
       "Transmission     0\n",
       "Owner            0\n",
       "dtype: int64"
      ]
     },
     "execution_count": 8,
     "metadata": {
      "tags": []
     },
     "output_type": "execute_result"
    }
   ],
   "source": [
    "car_data.isnull().sum()\n",
    "#We don't have NaN values in our data, well that's good thing because we don't need think about techniques to fill null values or \n",
    "#dropping them"
   ]
  },
  {
   "cell_type": "code",
   "execution_count": 156,
   "metadata": {
    "colab": {
     "base_uri": "https://localhost:8080/",
     "height": 204
    },
    "executionInfo": {
     "elapsed": 932,
     "status": "ok",
     "timestamp": 1604922141800,
     "user": {
      "displayName": "DEENU KHAN",
      "photoUrl": "https://lh3.googleusercontent.com/a-/AOh14Ghpfvygacg2FT229l3smVm_jkBYuB82Acgo6pI4=s64",
      "userId": "07803613442984213053"
     },
     "user_tz": -330
    },
    "id": "uU7VRc6zIGUa",
    "outputId": "82c7e377-4878-480b-90d6-0b7836437ce8"
   },
   "outputs": [
    {
     "data": {
      "text/html": [
       "<div>\n",
       "<style scoped>\n",
       "    .dataframe tbody tr th:only-of-type {\n",
       "        vertical-align: middle;\n",
       "    }\n",
       "\n",
       "    .dataframe tbody tr th {\n",
       "        vertical-align: top;\n",
       "    }\n",
       "\n",
       "    .dataframe thead th {\n",
       "        text-align: right;\n",
       "    }\n",
       "</style>\n",
       "<table border=\"1\" class=\"dataframe\">\n",
       "  <thead>\n",
       "    <tr style=\"text-align: right;\">\n",
       "      <th></th>\n",
       "      <th>Year</th>\n",
       "      <th>Selling_Price</th>\n",
       "      <th>Present_Price</th>\n",
       "      <th>Kms_Driven</th>\n",
       "      <th>Owner</th>\n",
       "    </tr>\n",
       "  </thead>\n",
       "  <tbody>\n",
       "    <tr>\n",
       "      <th>Year</th>\n",
       "      <td>1.000000</td>\n",
       "      <td>0.236141</td>\n",
       "      <td>-0.047584</td>\n",
       "      <td>-0.524342</td>\n",
       "      <td>-0.182104</td>\n",
       "    </tr>\n",
       "    <tr>\n",
       "      <th>Selling_Price</th>\n",
       "      <td>0.236141</td>\n",
       "      <td>1.000000</td>\n",
       "      <td>0.878983</td>\n",
       "      <td>0.029187</td>\n",
       "      <td>-0.088344</td>\n",
       "    </tr>\n",
       "    <tr>\n",
       "      <th>Present_Price</th>\n",
       "      <td>-0.047584</td>\n",
       "      <td>0.878983</td>\n",
       "      <td>1.000000</td>\n",
       "      <td>0.203647</td>\n",
       "      <td>0.008057</td>\n",
       "    </tr>\n",
       "    <tr>\n",
       "      <th>Kms_Driven</th>\n",
       "      <td>-0.524342</td>\n",
       "      <td>0.029187</td>\n",
       "      <td>0.203647</td>\n",
       "      <td>1.000000</td>\n",
       "      <td>0.089216</td>\n",
       "    </tr>\n",
       "    <tr>\n",
       "      <th>Owner</th>\n",
       "      <td>-0.182104</td>\n",
       "      <td>-0.088344</td>\n",
       "      <td>0.008057</td>\n",
       "      <td>0.089216</td>\n",
       "      <td>1.000000</td>\n",
       "    </tr>\n",
       "  </tbody>\n",
       "</table>\n",
       "</div>"
      ],
      "text/plain": [
       "                   Year  Selling_Price  Present_Price  Kms_Driven     Owner\n",
       "Year           1.000000       0.236141      -0.047584   -0.524342 -0.182104\n",
       "Selling_Price  0.236141       1.000000       0.878983    0.029187 -0.088344\n",
       "Present_Price -0.047584       0.878983       1.000000    0.203647  0.008057\n",
       "Kms_Driven    -0.524342       0.029187       0.203647    1.000000  0.089216\n",
       "Owner         -0.182104      -0.088344       0.008057    0.089216  1.000000"
      ]
     },
     "execution_count": 156,
     "metadata": {
      "tags": []
     },
     "output_type": "execute_result"
    }
   ],
   "source": [
    "car_data.corr()\n",
    "#Here we can see that Present Price is positively correlated to Selling Price, means Present_Price is good predictor of Selling_Price\n",
    "#After That Year is also contributing to predict Selling_Price"
   ]
  },
  {
   "cell_type": "code",
   "execution_count": 142,
   "metadata": {
    "colab": {
     "base_uri": "https://localhost:8080/",
     "height": 1000
    },
    "executionInfo": {
     "elapsed": 14430,
     "status": "ok",
     "timestamp": 1604920421248,
     "user": {
      "displayName": "DEENU KHAN",
      "photoUrl": "https://lh3.googleusercontent.com/a-/AOh14Ghpfvygacg2FT229l3smVm_jkBYuB82Acgo6pI4=s64",
      "userId": "07803613442984213053"
     },
     "user_tz": -330
    },
    "id": "zpklQzPctbLb",
    "outputId": "94ce9c5f-6ff0-4e50-c4ea-594ae7f40298"
   },
   "outputs": [
    {
     "data": {
      "text/plain": [
       "<seaborn.axisgrid.PairGrid at 0x7f3ea90e7748>"
      ]
     },
     "execution_count": 142,
     "metadata": {
      "tags": []
     },
     "output_type": "execute_result"
    },
    {
     "data": {
      "image/png": "[encoded data removed]",
      "text/plain": [
       "<Figure size 1080x1080 with 42 Axes>"
      ]
     },
     "metadata": {
      "needs_background": "light",
      "tags": []
     },
     "output_type": "display_data"
    }
   ],
   "source": [
    "sns.pairplot(car_data.corr())"
   ]
  },
  {
   "cell_type": "code",
   "execution_count": 163,
   "metadata": {
    "colab": {
     "base_uri": "https://localhost:8080/",
     "height": 398
    },
    "executionInfo": {
     "elapsed": 928,
     "status": "ok",
     "timestamp": 1604922340765,
     "user": {
      "displayName": "DEENU KHAN",
      "photoUrl": "https://lh3.googleusercontent.com/a-/AOh14Ghpfvygacg2FT229l3smVm_jkBYuB82Acgo6pI4=s64",
      "userId": "07803613442984213053"
     },
     "user_tz": -330
    },
    "id": "9tHXsZGZ0IOo",
    "outputId": "7a5e5e99-0ad8-494e-aab0-ac3229d11f38"
   },
   "outputs": [
    {
     "data": {
      "text/plain": [
       "<matplotlib.axes._subplots.AxesSubplot at 0x7f3ea7b297b8>"
      ]
     },
     "execution_count": 163,
     "metadata": {
      "tags": []
     },
     "output_type": "execute_result"
    },
    {
     "data": {
      "image/png": "[encoded data removed]",
      "text/plain": [
       "<Figure size 360x360 with 2 Axes>"
      ]
     },
     "metadata": {
      "needs_background": "light",
      "tags": []
     },
     "output_type": "display_data"
    }
   ],
   "source": [
    "corrmat = car_data.corr()\n",
    "features = corrmat.index\n",
    "plt.figure(figsize=(5, 5))\n",
    "sns.heatmap(car_data[features].corr(), annot = True, cmap = \"RdYlGn\" )"
   ]
  },
  {
   "cell_type": "code",
   "execution_count": null,
   "metadata": {
    "id": "G40QwJsIxwaz"
   },
   "outputs": [],
   "source": [
    "\n",
    "# from sklearn.ensemble import ExtraTreesRegressor\n",
    "# import matplotlib.pyplot as plt\n",
    "# model = ExtraTreesRegressor()\n",
    "# model.fit(X,y)\n",
    "# print(model.feature_importances_)\n",
    "\n",
    "# #plot graph of feature importances for better visualization\n",
    "# feat_importances = pd.Series(model.feature_importances_, index=X.columns)\n",
    "# feat_importances.nlargest(5).plot(kind='barh')\n",
    "# plt.show()"
   ]
  },
  {
   "cell_type": "code",
   "execution_count": 3,
   "metadata": {
    "executionInfo": {
     "elapsed": 2291,
     "status": "ok",
     "timestamp": 1605066236159,
     "user": {
      "displayName": "DEENU KHAN",
      "photoUrl": "https://lh3.googleusercontent.com/a-/AOh14Ghpfvygacg2FT229l3smVm_jkBYuB82Acgo6pI4=s64",
      "userId": "07803613442984213053"
     },
     "user_tz": -330
    },
    "id": "C4hk04TnIgLM"
   },
   "outputs": [],
   "source": [
    "#Let's drop car_name because we don't need it\n",
    "car_data.drop(['Car_Name'], axis = 1, inplace = True)"
   ]
  },
  {
   "cell_type": "code",
   "execution_count": 6,
   "metadata": {
    "colab": {
     "base_uri": "https://localhost:8080/"
    },
    "executionInfo": {
     "elapsed": 1480,
     "status": "ok",
     "timestamp": 1605066464428,
     "user": {
      "displayName": "DEENU KHAN",
      "photoUrl": "https://lh3.googleusercontent.com/a-/AOh14Ghpfvygacg2FT229l3smVm_jkBYuB82Acgo6pI4=s64",
      "userId": "07803613442984213053"
     },
     "user_tz": -330
    },
    "id": "E0nEiONqZzV6",
    "outputId": "98863240-70e6-4f22-cc7c-cc95ce5318e2"
   },
   "outputs": [
    {
     "data": {
      "text/plain": [
       "int"
      ]
     },
     "execution_count": 6,
     "metadata": {
      "tags": []
     },
     "output_type": "execute_result"
    }
   ],
   "source": [
    "from datetime import datetime\n",
    "type(datetime.now().year)"
   ]
  },
  {
   "cell_type": "code",
   "execution_count": 7,
   "metadata": {
    "executionInfo": {
     "elapsed": 1124,
     "status": "ok",
     "timestamp": 1605066481637,
     "user": {
      "displayName": "DEENU KHAN",
      "photoUrl": "https://lh3.googleusercontent.com/a-/AOh14Ghpfvygacg2FT229l3smVm_jkBYuB82Acgo6pI4=s64",
      "userId": "07803613442984213053"
     },
     "user_tz": -330
    },
    "id": "Hs5AoToNKQQe"
   },
   "outputs": [],
   "source": [
    "#let do some feature engineering, as we're doing this project in 2020, so we can generate a new feature \n",
    "#how many years old a car is with the help of Year feature\n",
    "from datetime import datetime\n",
    "car_data['Years_old'] = datetime.now().year - car_data['Year']"
   ]
  },
  {
   "cell_type": "code",
   "execution_count": 8,
   "metadata": {
    "colab": {
     "base_uri": "https://localhost:8080/",
     "height": 204
    },
    "executionInfo": {
     "elapsed": 1339,
     "status": "ok",
     "timestamp": 1605066485031,
     "user": {
      "displayName": "DEENU KHAN",
      "photoUrl": "https://lh3.googleusercontent.com/a-/AOh14Ghpfvygacg2FT229l3smVm_jkBYuB82Acgo6pI4=s64",
      "userId": "07803613442984213053"
     },
     "user_tz": -330
    },
    "id": "wbUKd_LwRDmZ",
    "outputId": "8441a1fc-98d8-465f-b118-0a78da3dd295"
   },
   "outputs": [
    {
     "data": {
      "text/html": [
       "<div>\n",
       "<style scoped>\n",
       "    .dataframe tbody tr th:only-of-type {\n",
       "        vertical-align: middle;\n",
       "    }\n",
       "\n",
       "    .dataframe tbody tr th {\n",
       "        vertical-align: top;\n",
       "    }\n",
       "\n",
       "    .dataframe thead th {\n",
       "        text-align: right;\n",
       "    }\n",
       "</style>\n",
       "<table border=\"1\" class=\"dataframe\">\n",
       "  <thead>\n",
       "    <tr style=\"text-align: right;\">\n",
       "      <th></th>\n",
       "      <th>Year</th>\n",
       "      <th>Selling_Price</th>\n",
       "      <th>Present_Price</th>\n",
       "      <th>Kms_Driven</th>\n",
       "      <th>Fuel_Type</th>\n",
       "      <th>Seller_Type</th>\n",
       "      <th>Transmission</th>\n",
       "      <th>Owner</th>\n",
       "      <th>Years_old</th>\n",
       "    </tr>\n",
       "  </thead>\n",
       "  <tbody>\n",
       "    <tr>\n",
       "      <th>0</th>\n",
       "      <td>2014</td>\n",
       "      <td>3.35</td>\n",
       "      <td>5.59</td>\n",
       "      <td>27000</td>\n",
       "      <td>Petrol</td>\n",
       "      <td>Dealer</td>\n",
       "      <td>Manual</td>\n",
       "      <td>0</td>\n",
       "      <td>6</td>\n",
       "    </tr>\n",
       "    <tr>\n",
       "      <th>1</th>\n",
       "      <td>2013</td>\n",
       "      <td>4.75</td>\n",
       "      <td>9.54</td>\n",
       "      <td>43000</td>\n",
       "      <td>Diesel</td>\n",
       "      <td>Dealer</td>\n",
       "      <td>Manual</td>\n",
       "      <td>0</td>\n",
       "      <td>7</td>\n",
       "    </tr>\n",
       "    <tr>\n",
       "      <th>2</th>\n",
       "      <td>2017</td>\n",
       "      <td>7.25</td>\n",
       "      <td>9.85</td>\n",
       "      <td>6900</td>\n",
       "      <td>Petrol</td>\n",
       "      <td>Dealer</td>\n",
       "      <td>Manual</td>\n",
       "      <td>0</td>\n",
       "      <td>3</td>\n",
       "    </tr>\n",
       "    <tr>\n",
       "      <th>3</th>\n",
       "      <td>2011</td>\n",
       "      <td>2.85</td>\n",
       "      <td>4.15</td>\n",
       "      <td>5200</td>\n",
       "      <td>Petrol</td>\n",
       "      <td>Dealer</td>\n",
       "      <td>Manual</td>\n",
       "      <td>0</td>\n",
       "      <td>9</td>\n",
       "    </tr>\n",
       "    <tr>\n",
       "      <th>4</th>\n",
       "      <td>2014</td>\n",
       "      <td>4.60</td>\n",
       "      <td>6.87</td>\n",
       "      <td>42450</td>\n",
       "      <td>Diesel</td>\n",
       "      <td>Dealer</td>\n",
       "      <td>Manual</td>\n",
       "      <td>0</td>\n",
       "      <td>6</td>\n",
       "    </tr>\n",
       "  </tbody>\n",
       "</table>\n",
       "</div>"
      ],
      "text/plain": [
       "   Year  Selling_Price  Present_Price  ...  Transmission Owner Years_old\n",
       "0  2014           3.35           5.59  ...        Manual     0         6\n",
       "1  2013           4.75           9.54  ...        Manual     0         7\n",
       "2  2017           7.25           9.85  ...        Manual     0         3\n",
       "3  2011           2.85           4.15  ...        Manual     0         9\n",
       "4  2014           4.60           6.87  ...        Manual     0         6\n",
       "\n",
       "[5 rows x 9 columns]"
      ]
     },
     "execution_count": 8,
     "metadata": {
      "tags": []
     },
     "output_type": "execute_result"
    }
   ],
   "source": [
    "car_data.head()"
   ]
  },
  {
   "cell_type": "code",
   "execution_count": 28,
   "metadata": {
    "colab": {
     "base_uri": "https://localhost:8080/"
    },
    "executionInfo": {
     "elapsed": 1397,
     "status": "ok",
     "timestamp": 1605067934893,
     "user": {
      "displayName": "DEENU KHAN",
      "photoUrl": "https://lh3.googleusercontent.com/a-/AOh14Ghpfvygacg2FT229l3smVm_jkBYuB82Acgo6pI4=s64",
      "userId": "07803613442984213053"
     },
     "user_tz": -330
    },
    "id": "DEU9wIFVJQYU",
    "outputId": "590b6911-b0ad-4c5f-a45f-2ed01f284d9f"
   },
   "outputs": [
    {
     "name": "stdout",
     "output_type": "stream",
     "text": [
      "Fuel_Type Shape =  (301, 2)\n",
      "Seller_Type_ohe Shape =  (301, 1)\n",
      "Transmission_ohe Shape =  (301, 1)\n"
     ]
    }
   ],
   "source": [
    "#now let's deal with categorical variable use one hot encoding to convert them\n",
    "#and about the numerical feature, we would be using tree based model, which doesn't affect by scale of numerical features that much\n",
    "#later we will do scaling of numerical features and will see the difference\n",
    "\n",
    "from sklearn.preprocessing import OneHotEncoder\n",
    "enc = OneHotEncoder(drop = 'first')\n",
    "\n",
    "Fuel_Type_ohe = enc.fit_transform(car_data['Fuel_Type'].values.reshape(-1, 1)).toarray()\n",
    "Seller_Type_ohe = enc.fit_transform(car_data['Seller_Type'].values.reshape(-1, 1)).toarray()\n",
    "Transmission_ohe = enc.fit_transform(car_data['Transmission'].values.reshape(-1, 1)).toarray()\n",
    "\n",
    "print(\"Fuel_Type Shape = \", Fuel_Type_ohe.shape)\n",
    "print(\"Seller_Type_ohe Shape = \", Seller_Type_ohe.shape)\n",
    "print(\"Transmission_ohe Shape = \", Transmission_ohe.shape)"
   ]
  },
  {
   "cell_type": "code",
   "execution_count": 10,
   "metadata": {
    "colab": {
     "base_uri": "https://localhost:8080/"
    },
    "executionInfo": {
     "elapsed": 1545,
     "status": "ok",
     "timestamp": 1605066689395,
     "user": {
      "displayName": "DEENU KHAN",
      "photoUrl": "https://lh3.googleusercontent.com/a-/AOh14Ghpfvygacg2FT229l3smVm_jkBYuB82Acgo6pI4=s64",
      "userId": "07803613442984213053"
     },
     "user_tz": -330
    },
    "id": "0qUapBkp1QQX",
    "outputId": "1baf78a6-be70-4966-bd47-e0af879cbed5"
   },
   "outputs": [
    {
     "name": "stdout",
     "output_type": "stream",
     "text": [
      "Shape of X :  (301, 8)\n",
      "Shape of y :  (301,)\n"
     ]
    }
   ],
   "source": [
    "#Lets split our data into dependent and independent variables\n",
    "X = np.concatenate((Fuel_Type_ohe, Seller_Type_ohe, Transmission_ohe, car_data['Present_Price'].values.reshape(-1, 1), \n",
    "                    car_data['Kms_Driven'].values.reshape(-1, 1), car_data['Owner'].values.reshape(-1, 1), \n",
    "                    car_data['Years_old'].values.reshape(-1, 1)), axis = 1)\n",
    "y = car_data['Selling_Price'].values\n",
    "\n",
    "print(\"Shape of X : \", X.shape)\n",
    "print(\"Shape of y : \", y.shape)"
   ]
  },
  {
   "cell_type": "code",
   "execution_count": 11,
   "metadata": {
    "colab": {
     "base_uri": "https://localhost:8080/"
    },
    "executionInfo": {
     "elapsed": 1526,
     "status": "ok",
     "timestamp": 1605066694990,
     "user": {
      "displayName": "DEENU KHAN",
      "photoUrl": "https://lh3.googleusercontent.com/a-/AOh14Ghpfvygacg2FT229l3smVm_jkBYuB82Acgo6pI4=s64",
      "userId": "07803613442984213053"
     },
     "user_tz": -330
    },
    "id": "TgJV8ownuG5_",
    "outputId": "59d611bc-a06a-4805-d809-acccb680eda5"
   },
   "outputs": [
    {
     "name": "stdout",
     "output_type": "stream",
     "text": [
      "Shape of X_train :  (225, 8)\n",
      "Shape of y_train :  (225,)\n",
      "Shape of X_test :  (76, 8)\n",
      "Shape of y_test :  (76,)\n"
     ]
    }
   ],
   "source": [
    "#Splitting the data into Test and Train part\n",
    "from sklearn.model_selection import train_test_split\n",
    "\n",
    "X_train, X_test, y_train, y_test = train_test_split(X, y)\n",
    "\n",
    "print(\"Shape of X_train : \", X_train.shape)\n",
    "print(\"Shape of y_train : \", y_train.shape)\n",
    "print(\"Shape of X_test : \", X_test.shape)\n",
    "print(\"Shape of y_test : \", y_test.shape)\n"
   ]
  },
  {
   "cell_type": "code",
   "execution_count": 12,
   "metadata": {
    "colab": {
     "base_uri": "https://localhost:8080/"
    },
    "executionInfo": {
     "elapsed": 7489,
     "status": "ok",
     "timestamp": 1605066710339,
     "user": {
      "displayName": "DEENU KHAN",
      "photoUrl": "https://lh3.googleusercontent.com/a-/AOh14Ghpfvygacg2FT229l3smVm_jkBYuB82Acgo6pI4=s64",
      "userId": "07803613442984213053"
     },
     "user_tz": -330
    },
    "id": "nmMUStHxuHAV",
    "outputId": "61da4552-d7cd-4dfb-e28a-c30ac7dc0aa0"
   },
   "outputs": [
    {
     "name": "stdout",
     "output_type": "stream",
     "text": [
      "Fitting 5 folds for each of 10 candidates, totalling 50 fits\n"
     ]
    },
    {
     "name": "stderr",
     "output_type": "stream",
     "text": [
      "[Parallel(n_jobs=-1)]: Using backend LokyBackend with 2 concurrent workers.\n",
      "[Parallel(n_jobs=-1)]: Done  46 tasks      | elapsed:    5.9s\n",
      "[Parallel(n_jobs=-1)]: Done  50 out of  50 | elapsed:    6.3s finished\n"
     ]
    },
    {
     "data": {
      "text/plain": [
       "RandomizedSearchCV(cv=None, error_score=nan,\n",
       "                   estimator=RandomForestRegressor(bootstrap=True,\n",
       "                                                   ccp_alpha=0.0,\n",
       "                                                   criterion='mse',\n",
       "                                                   max_depth=None,\n",
       "                                                   max_features='auto',\n",
       "                                                   max_leaf_nodes=None,\n",
       "                                                   max_samples=None,\n",
       "                                                   min_impurity_decrease=0.0,\n",
       "                                                   min_impurity_split=None,\n",
       "                                                   min_samples_leaf=1,\n",
       "                                                   min_samples_split=2,\n",
       "                                                   min_weight_fraction_leaf=0.0,\n",
       "                                                   n_estimators=100,\n",
       "                                                   n_jobs=None, oob_score=False,\n",
       "                                                   random_state=None, verbose=0,\n",
       "                                                   warm_start=False),\n",
       "                   iid='deprecated', n_iter=10, n_jobs=-1,\n",
       "                   param_distributions={'max_depth': [1, 3, 5, 7, 9, 11],\n",
       "                                        'n_estimators': [40, 60, 80, 100, 120,\n",
       "                                                         140]},\n",
       "                   pre_dispatch='2*n_jobs', random_state=None, refit=True,\n",
       "                   return_train_score=False, scoring=None, verbose=1)"
      ]
     },
     "execution_count": 12,
     "metadata": {
      "tags": []
     },
     "output_type": "execute_result"
    }
   ],
   "source": [
    "#Finding the best Parameter for our model\n",
    "from sklearn.model_selection import RandomizedSearchCV\n",
    "from sklearn.ensemble import RandomForestRegressor\n",
    "\n",
    "n_estimators = [int(x) for x in np.linspace(40, 140, 6)] \n",
    "max_depth = [1, 3, 5, 7, 9, 11]\n",
    "param = {'n_estimators' : n_estimators, 'max_depth' : max_depth}\n",
    "\n",
    "model = RandomForestRegressor()\n",
    "model_rcv = RandomizedSearchCV(model, param, verbose = 1, n_jobs = -1)\n",
    "\n",
    "model_rcv.fit(X_train, y_train)"
   ]
  },
  {
   "cell_type": "code",
   "execution_count": 15,
   "metadata": {
    "colab": {
     "base_uri": "https://localhost:8080/"
    },
    "executionInfo": {
     "elapsed": 1138,
     "status": "ok",
     "timestamp": 1605066786798,
     "user": {
      "displayName": "DEENU KHAN",
      "photoUrl": "https://lh3.googleusercontent.com/a-/AOh14Ghpfvygacg2FT229l3smVm_jkBYuB82Acgo6pI4=s64",
      "userId": "07803613442984213053"
     },
     "user_tz": -330
    },
    "id": "9hxShCauboMC",
    "outputId": "792cfaa2-7482-4b40-d178-cf5643b4ae89"
   },
   "outputs": [
    {
     "name": "stdout",
     "output_type": "stream",
     "text": [
      "9 100\n"
     ]
    },
    {
     "data": {
      "text/plain": [
       "{'max_depth': 9, 'n_estimators': 100}"
      ]
     },
     "execution_count": 15,
     "metadata": {
      "tags": []
     },
     "output_type": "execute_result"
    }
   ],
   "source": [
    "\n",
    "max_depth = model_rcv.best_params_['max_depth']\n",
    "n_estimators = model_rcv.best_params_['n_estimators']\n",
    "print(max_depth, n_estimators)\n",
    "model_rcv.best_params_"
   ]
  },
  {
   "cell_type": "code",
   "execution_count": 22,
   "metadata": {
    "colab": {
     "base_uri": "https://localhost:8080/"
    },
    "executionInfo": {
     "elapsed": 1229,
     "status": "ok",
     "timestamp": 1605066863380,
     "user": {
      "displayName": "DEENU KHAN",
      "photoUrl": "https://lh3.googleusercontent.com/a-/AOh14Ghpfvygacg2FT229l3smVm_jkBYuB82Acgo6pI4=s64",
      "userId": "07803613442984213053"
     },
     "user_tz": -330
    },
    "id": "gDi_fTvDuHQu",
    "outputId": "591f7b99-2dac-4ff5-9fe8-3e3bd9dc9284"
   },
   "outputs": [
    {
     "data": {
      "text/plain": [
       "RandomForestRegressor(bootstrap=True, ccp_alpha=0.0, criterion='mse',\n",
       "                      max_depth=9, max_features='auto', max_leaf_nodes=None,\n",
       "                      max_samples=None, min_impurity_decrease=0.0,\n",
       "                      min_impurity_split=None, min_samples_leaf=1,\n",
       "                      min_samples_split=2, min_weight_fraction_leaf=0.0,\n",
       "                      n_estimators=11, n_jobs=None, oob_score=False,\n",
       "                      random_state=None, verbose=0, warm_start=False)"
      ]
     },
     "execution_count": 22,
     "metadata": {
      "tags": []
     },
     "output_type": "execute_result"
    }
   ],
   "source": [
    "#now when we have our best parameters, let's train our model again\n",
    "max_depth = model_rcv.best_params_['max_depth']\n",
    "n_estimators = model_rcv.best_params_['n_estimators']\n",
    "\n",
    "model = RandomForestRegressor(n_estimators=n_estimators, max_depth=max_depth)\n",
    "model.fit(X_train, y_train)"
   ]
  },
  {
   "cell_type": "code",
   "execution_count": 23,
   "metadata": {
    "executionInfo": {
     "elapsed": 1268,
     "status": "ok",
     "timestamp": 1605066866454,
     "user": {
      "displayName": "DEENU KHAN",
      "photoUrl": "https://lh3.googleusercontent.com/a-/AOh14Ghpfvygacg2FT229l3smVm_jkBYuB82Acgo6pI4=s64",
      "userId": "07803613442984213053"
     },
     "user_tz": -330
    },
    "id": "LQUcPAYSuHcp"
   },
   "outputs": [],
   "source": [
    "predictions = model.predict(X_test)"
   ]
  },
  {
   "cell_type": "code",
   "execution_count": 24,
   "metadata": {
    "colab": {
     "base_uri": "https://localhost:8080/",
     "height": 282
    },
    "executionInfo": {
     "elapsed": 1327,
     "status": "ok",
     "timestamp": 1605066870390,
     "user": {
      "displayName": "DEENU KHAN",
      "photoUrl": "https://lh3.googleusercontent.com/a-/AOh14Ghpfvygacg2FT229l3smVm_jkBYuB82Acgo6pI4=s64",
      "userId": "07803613442984213053"
     },
     "user_tz": -330
    },
    "id": "Rm2yy4YnuHfn",
    "outputId": "d8ee7f74-8013-49ec-c098-1385b32c1199"
   },
   "outputs": [
    {
     "data": {
      "text/plain": [
       "<matplotlib.collections.PathCollection at 0x7f891852ab38>"
      ]
     },
     "execution_count": 24,
     "metadata": {
      "tags": []
     },
     "output_type": "execute_result"
    },
    {
     "data": {
      "image/png": "[encoded data removed]",
      "text/plain": [
       "<Figure size 432x288 with 1 Axes>"
      ]
     },
     "metadata": {
      "needs_background": "light",
      "tags": []
     },
     "output_type": "display_data"
    }
   ],
   "source": [
    "\n",
    "#From below graph we can see that our model is pretty much working fine\n",
    "plt.scatter(y_test, predictions, c = np.random.rand(76))"
   ]
  },
  {
   "cell_type": "code",
   "execution_count": 25,
   "metadata": {
    "colab": {
     "base_uri": "https://localhost:8080/",
     "height": 336
    },
    "executionInfo": {
     "elapsed": 1591,
     "status": "ok",
     "timestamp": 1605066876198,
     "user": {
      "displayName": "DEENU KHAN",
      "photoUrl": "https://lh3.googleusercontent.com/a-/AOh14Ghpfvygacg2FT229l3smVm_jkBYuB82Acgo6pI4=s64",
      "userId": "07803613442984213053"
     },
     "user_tz": -330
    },
    "id": "RjCndNdPypr3",
    "outputId": "a0a3fc60-0f77-4f86-9691-4c96bb975340"
   },
   "outputs": [
    {
     "name": "stderr",
     "output_type": "stream",
     "text": [
      "/usr/local/lib/python3.6/dist-packages/seaborn/distributions.py:2551: FutureWarning: `distplot` is a deprecated function and will be removed in a future version. Please adapt your code to use either `displot` (a figure-level function with similar flexibility) or `histplot` (an axes-level function for histograms).\n",
      "  warnings.warn(msg, FutureWarning)\n"
     ]
    },
    {
     "data": {
      "text/plain": [
       "<matplotlib.axes._subplots.AxesSubplot at 0x7f89184e9208>"
      ]
     },
     "execution_count": 25,
     "metadata": {
      "tags": []
     },
     "output_type": "execute_result"
    },
    {
     "data": {
      "image/png": "[encoded data removed]",
      "text/plain": [
       "<Figure size 432x288 with 1 Axes>"
      ]
     },
     "metadata": {
      "needs_background": "light",
      "tags": []
     },
     "output_type": "display_data"
    }
   ],
   "source": [
    "sns.distplot(y_test - predictions)"
   ]
  },
  {
   "cell_type": "code",
   "execution_count": 140,
   "metadata": {
    "colab": {
     "base_uri": "https://localhost:8080/",
     "height": 333
    },
    "executionInfo": {
     "elapsed": 1805,
     "status": "ok",
     "timestamp": 1604916629211,
     "user": {
      "displayName": "DEENU KHAN",
      "photoUrl": "https://lh3.googleusercontent.com/a-/AOh14Ghpfvygacg2FT229l3smVm_jkBYuB82Acgo6pI4=s64",
      "userId": "07803613442984213053"
     },
     "user_tz": -330
    },
    "id": "UOVtupCeuHmE",
    "outputId": "d22e6548-9ad9-4ff9-d8e7-0e10cb8fc363"
   },
   "outputs": [
    {
     "data": {
      "text/plain": [
       "(array([23., 17., 19.,  9.,  4.,  1.,  1.,  0.,  0.,  2.]),\n",
       " array([ 0.1 ,  2.39,  4.68,  6.97,  9.26, 11.55, 13.84, 16.13, 18.42,\n",
       "        20.71, 23.  ]),\n",
       " <a list of 10 Patch objects>)"
      ]
     },
     "execution_count": 140,
     "metadata": {
      "tags": []
     },
     "output_type": "execute_result"
    },
    {
     "data": {
      "image/png": "[encoded data removed]",
      "text/plain": [
       "<Figure size 432x288 with 1 Axes>"
      ]
     },
     "metadata": {
      "needs_background": "light",
      "tags": []
     },
     "output_type": "display_data"
    }
   ],
   "source": [
    "plt.hist(y_test)"
   ]
  },
  {
   "cell_type": "code",
   "execution_count": 141,
   "metadata": {
    "colab": {
     "base_uri": "https://localhost:8080/",
     "height": 333
    },
    "executionInfo": {
     "elapsed": 1329,
     "status": "ok",
     "timestamp": 1604916649197,
     "user": {
      "displayName": "DEENU KHAN",
      "photoUrl": "https://lh3.googleusercontent.com/a-/AOh14Ghpfvygacg2FT229l3smVm_jkBYuB82Acgo6pI4=s64",
      "userId": "07803613442984213053"
     },
     "user_tz": -330
    },
    "id": "zvFxYsYkuHXv",
    "outputId": "b464ad22-daee-4f16-801e-173d6e93fc1b"
   },
   "outputs": [
    {
     "data": {
      "text/plain": [
       "(array([22., 16., 20., 12.,  3.,  0.,  1.,  0.,  0.,  2.]),\n",
       " array([ 0.2161 ,  2.44794,  4.67978,  6.91162,  9.14346, 11.3753 ,\n",
       "        13.60714, 15.83898, 18.07082, 20.30266, 22.5345 ]),\n",
       " <a list of 10 Patch objects>)"
      ]
     },
     "execution_count": 141,
     "metadata": {
      "tags": []
     },
     "output_type": "execute_result"
    },
    {
     "data": {
      "image/png": "[encoded data removed]",
      "text/plain": [
       "<Figure size 432x288 with 1 Axes>"
      ]
     },
     "metadata": {
      "needs_background": "light",
      "tags": []
     },
     "output_type": "display_data"
    }
   ],
   "source": [
    "plt.hist(predictions)"
   ]
  },
  {
   "cell_type": "code",
   "execution_count": 20,
   "metadata": {
    "colab": {
     "base_uri": "https://localhost:8080/"
    },
    "executionInfo": {
     "elapsed": 1333,
     "status": "ok",
     "timestamp": 1605066838392,
     "user": {
      "displayName": "DEENU KHAN",
      "photoUrl": "https://lh3.googleusercontent.com/a-/AOh14Ghpfvygacg2FT229l3smVm_jkBYuB82Acgo6pI4=s64",
      "userId": "07803613442984213053"
     },
     "user_tz": -330
    },
    "id": "0BnZqhhxyzo4",
    "outputId": "e75b6aad-3db0-4c96-c0f7-4ed190ab4aad"
   },
   "outputs": [
    {
     "name": "stdout",
     "output_type": "stream",
     "text": [
      "Mean Absolute Error          :  0.6788050744411209\n",
      "Mean Squared Error           :  3.5094064562757237\n",
      "Root Mean Squared Error      :  1.8733409877210618\n"
     ]
    }
   ],
   "source": [
    "#Now Checking Errors\n",
    "from sklearn.metrics import  mean_absolute_error, mean_squared_error\n",
    "print(\"Mean Absolute Error          : \", mean_absolute_error(y_test, predictions))\n",
    "print(\"Mean Squared Error           : \", mean_squared_error(y_test, predictions))\n",
    "print(\"Root Mean Squared Error      : \", np.sqrt(mean_squared_error(y_test, predictions)))"
   ]
  },
  {
   "cell_type": "code",
   "execution_count": null,
   "metadata": {
    "id": "RULp_q9euHVR"
   },
   "outputs": [],
   "source": [
    "#now saving oour model into pickle file"
   ]
  },
  {
   "cell_type": "code",
   "execution_count": 21,
   "metadata": {
    "executionInfo": {
     "elapsed": 1223,
     "status": "ok",
     "timestamp": 1605066845178,
     "user": {
      "displayName": "DEENU KHAN",
      "photoUrl": "https://lh3.googleusercontent.com/a-/AOh14Ghpfvygacg2FT229l3smVm_jkBYuB82Acgo6pI4=s64",
      "userId": "07803613442984213053"
     },
     "user_tz": -330
    },
    "id": "4fGtft2WuHNy"
   },
   "outputs": [],
   "source": [
    "#Now dumping our model into Pickle File\n",
    "import pickle\n",
    "file = open('model_rf_regressor.pkl', 'wb')\n",
    "pickle.dump(model, file)    "
   ]
  },
  {
   "cell_type": "code",
   "execution_count": 148,
   "metadata": {
    "executionInfo": {
     "elapsed": 927,
     "status": "ok",
     "timestamp": 1604921366387,
     "user": {
      "displayName": "DEENU KHAN",
      "photoUrl": "https://lh3.googleusercontent.com/a-/AOh14Ghpfvygacg2FT229l3smVm_jkBYuB82Acgo6pI4=s64",
      "userId": "07803613442984213053"
     },
     "user_tz": -330
    },
    "id": "Lb75JJcQuHE6"
   },
   "outputs": [],
   "source": [
    "#Loading our model\n",
    "loaded_model = pickle.load(open('model_rf_regressor.pkl', 'rb'))"
   ]
  },
  {
   "cell_type": "code",
   "execution_count": 27,
   "metadata": {
    "colab": {
     "base_uri": "https://localhost:8080/"
    },
    "executionInfo": {
     "elapsed": 1120,
     "status": "ok",
     "timestamp": 1605067754792,
     "user": {
      "displayName": "DEENU KHAN",
      "photoUrl": "https://lh3.googleusercontent.com/a-/AOh14Ghpfvygacg2FT229l3smVm_jkBYuB82Acgo6pI4=s64",
      "userId": "07803613442984213053"
     },
     "user_tz": -330
    },
    "id": "v5m2Iw08fhUk",
    "outputId": "70fc1a4c-fa9c-47a8-cb25-4e1919c60b7d"
   },
   "outputs": [
    {
     "data": {
      "text/plain": [
       "array([[0.00e+00, 1.00e+00, 0.00e+00, 1.00e+00, 5.59e+00, 2.70e+04,\n",
       "        0.00e+00, 6.00e+00]])"
      ]
     },
     "execution_count": 27,
     "metadata": {
      "tags": []
     },
     "output_type": "execute_result"
    }
   ],
   "source": [
    "#Lets split our data into dependent and independent variables\n",
    "X = np.concatenate((Fuel_Type_ohe, Seller_Type_ohe, Transmission_ohe, car_data['Present_Price'].values.reshape(-1, 1), \n",
    "                    car_data['Kms_Driven'].values.reshape(-1, 1), car_data['Owner'].values.reshape(-1, 1), \n",
    "                    car_data['Years_old'].values.reshape(-1, 1)), axis = 1)"
   ]
  },
  {
   "cell_type": "code",
   "execution_count": 41,
   "metadata": {
    "executionInfo": {
     "elapsed": 1472,
     "status": "ok",
     "timestamp": 1605068590653,
     "user": {
      "displayName": "DEENU KHAN",
      "photoUrl": "https://lh3.googleusercontent.com/a-/AOh14Ghpfvygacg2FT229l3smVm_jkBYuB82Acgo6pI4=s64",
      "userId": "07803613442984213053"
     },
     "user_tz": -330
    },
    "id": "OaUKtVuruG80"
   },
   "outputs": [],
   "source": [
    "input = np.array([1, 0, 0, 1, 5.59, 27000, 0, 6])"
   ]
  },
  {
   "cell_type": "code",
   "execution_count": 42,
   "metadata": {
    "colab": {
     "base_uri": "https://localhost:8080/"
    },
    "executionInfo": {
     "elapsed": 978,
     "status": "ok",
     "timestamp": 1605068592288,
     "user": {
      "displayName": "DEENU KHAN",
      "photoUrl": "https://lh3.googleusercontent.com/a-/AOh14Ghpfvygacg2FT229l3smVm_jkBYuB82Acgo6pI4=s64",
      "userId": "07803613442984213053"
     },
     "user_tz": -330
    },
    "id": "kyQmJ9RAuGz9",
    "outputId": "c07aa914-bdca-49cb-ae99-db3d23649dd1"
   },
   "outputs": [
    {
     "data": {
      "text/plain": [
       "array([3.88181818])"
      ]
     },
     "execution_count": 42,
     "metadata": {
      "tags": []
     },
     "output_type": "execute_result"
    }
   ],
   "source": [
    "model.predict(input.reshape(1, -1))\n",
    "\n"
   ]
  },
  {
   "cell_type": "code",
   "execution_count": 54,
   "metadata": {
    "colab": {
     "base_uri": "https://localhost:8080/",
     "height": 163
    },
    "executionInfo": {
     "elapsed": 1388,
     "status": "error",
     "timestamp": 1605071285477,
     "user": {
      "displayName": "DEENU KHAN",
      "photoUrl": "https://lh3.googleusercontent.com/a-/AOh14Ghpfvygacg2FT229l3smVm_jkBYuB82Acgo6pI4=s64",
      "userId": "07803613442984213053"
     },
     "user_tz": -330
    },
    "id": "ZbleAvqIonw-",
    "outputId": "9405870f-411f-4520-e651-aaba06de10cf"
   },
   "outputs": [
    {
     "ename": "TypeError",
     "evalue": "ignored",
     "output_type": "error",
     "traceback": [
      "\u001b[0;31m---------------------------------------------------------------------------\u001b[0m",
      "\u001b[0;31mTypeError\u001b[0m                                 Traceback (most recent call last)",
      "\u001b[0;32m<ipython-input-54-c14c5ee82961>\u001b[0m in \u001b[0;36m<module>\u001b[0;34m()\u001b[0m\n\u001b[0;32m----> 1\u001b[0;31m \u001b[0mmodel\u001b[0m\u001b[0;34m.\u001b[0m\u001b[0mpredict\u001b[0m\u001b[0;34m(\u001b[0m\u001b[0;34m)\u001b[0m\u001b[0;34m\u001b[0m\u001b[0;34m\u001b[0m\u001b[0m\n\u001b[0m",
      "\u001b[0;31mTypeError\u001b[0m: predict() missing 1 required positional argument: 'X'"
     ]
    }
   ],
   "source": [
    "model."
   ]
  },
  {
   "cell_type": "code",
   "execution_count": 43,
   "metadata": {
    "executionInfo": {
     "elapsed": 1386,
     "status": "ok",
     "timestamp": 1605069048405,
     "user": {
      "displayName": "DEENU KHAN",
      "photoUrl": "https://lh3.googleusercontent.com/a-/AOh14Ghpfvygacg2FT229l3smVm_jkBYuB82Acgo6pI4=s64",
      "userId": "07803613442984213053"
     },
     "user_tz": -330
    },
    "id": "AI0XF4rojp_N"
   },
   "outputs": [],
   "source": [
    "parameter_dict = {  'Diesel': 0, \"Petrol\" : 1, \n",
    "                    'Dealer': 0, 'Individual':1,\n",
    "                    'Manual': 1, 'Automatic':0\n",
    "                    }\n",
    "input = np.array([1, 0, 1, 5.59, 27000, 0, 6])"
   ]
  },
  {
   "cell_type": "code",
   "execution_count": null,
   "metadata": {
    "id": "a0zpUfjFnfKe"
   },
   "outputs": [],
   "source": [
    "input_array = []\n",
    "fuel_type_diesel = None\n",
    "fuel_type_petrol = None\n",
    "\n",
    "if (fuel_type == 'Diesel'):\n",
    "    fuel_type_diesel = 0\n",
    "    fuel_type_petrol = 1\n",
    "elif (fuel_type=='Petrol'):\n",
    "    fuel_type_diesel = 1\n",
    "    fuel_type_petrol = 0\n",
    "else:\n",
    "    fuel_type_diesel = 0\n",
    "    fuel_type_petrol = 0\n",
    "\n",
    "\n",
    "if (seller_type == 'Dealer'):\n",
    "    seller_type = 0\n",
    "else: \n",
    "    seller_type = 1\n",
    "\n",
    "if (transmission == 'Manual'):\n",
    "    transmission = 1\n",
    "else:\n",
    "    transmission = 0\n"
   ]
  },
  {
   "cell_type": "code",
   "execution_count": null,
   "metadata": {
    "id": "vYoVYfVTuGw9"
   },
   "outputs": [],
   "source": [
    "fuel_type = input(\"Please Enter Fuel Type: \")\n",
    "seller_type = input(\"Please Enter Seller Type: \")\n",
    "transmission_type = input(\"Please Enter Transmission : \")\n"
   ]
  },
  {
   "cell_type": "code",
   "execution_count": 60,
   "metadata": {
    "colab": {
     "base_uri": "https://localhost:8080/",
     "height": 111
    },
    "executionInfo": {
     "elapsed": 1192,
     "status": "ok",
     "timestamp": 1605072818117,
     "user": {
      "displayName": "DEENU KHAN",
      "photoUrl": "https://lh3.googleusercontent.com/a-/AOh14Ghpfvygacg2FT229l3smVm_jkBYuB82Acgo6pI4=s64",
      "userId": "07803613442984213053"
     },
     "user_tz": -330
    },
    "id": "lhuJld-ZuGk2",
    "outputId": "8c15c754-716f-4692-976b-089ef8a3370a"
   },
   "outputs": [
    {
     "data": {
      "text/html": [
       "<div>\n",
       "<style scoped>\n",
       "    .dataframe tbody tr th:only-of-type {\n",
       "        vertical-align: middle;\n",
       "    }\n",
       "\n",
       "    .dataframe tbody tr th {\n",
       "        vertical-align: top;\n",
       "    }\n",
       "\n",
       "    .dataframe thead th {\n",
       "        text-align: right;\n",
       "    }\n",
       "</style>\n",
       "<table border=\"1\" class=\"dataframe\">\n",
       "  <thead>\n",
       "    <tr style=\"text-align: right;\">\n",
       "      <th></th>\n",
       "      <th>Year</th>\n",
       "      <th>Selling_Price</th>\n",
       "      <th>Present_Price</th>\n",
       "      <th>Kms_Driven</th>\n",
       "      <th>Fuel_Type</th>\n",
       "      <th>Seller_Type</th>\n",
       "      <th>Transmission</th>\n",
       "      <th>Owner</th>\n",
       "      <th>Years_old</th>\n",
       "    </tr>\n",
       "  </thead>\n",
       "  <tbody>\n",
       "    <tr>\n",
       "      <th>0</th>\n",
       "      <td>2014</td>\n",
       "      <td>3.35</td>\n",
       "      <td>5.59</td>\n",
       "      <td>27000</td>\n",
       "      <td>Petrol</td>\n",
       "      <td>Dealer</td>\n",
       "      <td>Manual</td>\n",
       "      <td>0</td>\n",
       "      <td>6</td>\n",
       "    </tr>\n",
       "    <tr>\n",
       "      <th>1</th>\n",
       "      <td>2013</td>\n",
       "      <td>4.75</td>\n",
       "      <td>9.54</td>\n",
       "      <td>43000</td>\n",
       "      <td>Diesel</td>\n",
       "      <td>Dealer</td>\n",
       "      <td>Manual</td>\n",
       "      <td>0</td>\n",
       "      <td>7</td>\n",
       "    </tr>\n",
       "  </tbody>\n",
       "</table>\n",
       "</div>"
      ],
      "text/plain": [
       "   Year  Selling_Price  Present_Price  ...  Transmission Owner Years_old\n",
       "0  2014           3.35           5.59  ...        Manual     0         6\n",
       "1  2013           4.75           9.54  ...        Manual     0         7\n",
       "\n",
       "[2 rows x 9 columns]"
      ]
     },
     "execution_count": 60,
     "metadata": {
      "tags": []
     },
     "output_type": "execute_result"
    }
   ],
   "source": [
    "car_data.head(2)"
   ]
  },
  {
   "cell_type": "code",
   "execution_count": 58,
   "metadata": {
    "colab": {
     "base_uri": "https://localhost:8080/"
    },
    "executionInfo": {
     "elapsed": 1144,
     "status": "ok",
     "timestamp": 1605071661833,
     "user": {
      "displayName": "DEENU KHAN",
      "photoUrl": "https://lh3.googleusercontent.com/a-/AOh14Ghpfvygacg2FT229l3smVm_jkBYuB82Acgo6pI4=s64",
      "userId": "07803613442984213053"
     },
     "user_tz": -330
    },
    "id": "nPwraxLaljjX",
    "outputId": "84b7759e-7ec0-4781-ced8-cb7ca05b76c9"
   },
   "outputs": [
    {
     "data": {
      "text/plain": [
       "array([3.88181818])"
      ]
     },
     "execution_count": 58,
     "metadata": {
      "tags": []
     },
     "output_type": "execute_result"
    }
   ],
   "source": [
    "model.predict(np.array([1, 0, 0, 1, 5.59, 27000, 0, 6]).reshape(1, -1))"
   ]
  },
  {
   "cell_type": "code",
   "execution_count": 59,
   "metadata": {
    "colab": {
     "base_uri": "https://localhost:8080/"
    },
    "executionInfo": {
     "elapsed": 826,
     "status": "ok",
     "timestamp": 1605072742206,
     "user": {
      "displayName": "DEENU KHAN",
      "photoUrl": "https://lh3.googleusercontent.com/a-/AOh14Ghpfvygacg2FT229l3smVm_jkBYuB82Acgo6pI4=s64",
      "userId": "07803613442984213053"
     },
     "user_tz": -330
    },
    "id": "xiPlaaqDl3OY",
    "outputId": "cbc82514-adf9-42ac-a6aa-3ccfcdf81675"
   },
   "outputs": [
    {
     "data": {
      "text/plain": [
       "array([[0., 1.],\n",
       "       [1., 0.],\n",
       "       [0., 1.],\n",
       "       [0., 1.],\n",
       "       [1., 0.]])"
      ]
     },
     "execution_count": 59,
     "metadata": {
      "tags": []
     },
     "output_type": "execute_result"
    }
   ],
   "source": [
    "Fuel_Type_ohe[:5]"
   ]
  },
  {
   "cell_type": "code",
   "execution_count": null,
   "metadata": {
    "id": "ceZxoCDMymMa"
   },
   "outputs": [],
   "source": [
    "Fuel_Type_Diesel    Fuel_Type_Petrol\n",
    "0                   1\n",
    "1 "
   ]
  },
  {
   "cell_type": "code",
   "execution_count": null,
   "metadata": {},
   "outputs": [],
   "source": []
  }
 ],
 "metadata": {
  "kernelspec": {
   "display_name": "Python 3",
   "language": "python",
   "name": "python3"
  },
  "language_info": {
   "codemirror_mode": {
    "name": "ipython",
    "version": 3
   },
   "file_extension": ".py",
   "mimetype": "text/x-python",
   "name": "python",
   "nbconvert_exporter": "python",
   "pygments_lexer": "ipython3",
   "version": "3.7.6"
  }
 },
 "nbformat": 4,
 "nbformat_minor": 4
}
